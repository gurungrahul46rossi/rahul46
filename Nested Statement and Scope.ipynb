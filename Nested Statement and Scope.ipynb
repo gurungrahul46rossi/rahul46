{
 "cells": [
  {
   "cell_type": "code",
   "execution_count": 1,
   "id": "8854330d",
   "metadata": {},
   "outputs": [],
   "source": [
    "x =25\n",
    "def printer():\n",
    "    x=50\n",
    "    return x"
   ]
  },
  {
   "cell_type": "code",
   "execution_count": 3,
   "id": "bb11bedd",
   "metadata": {},
   "outputs": [
    {
     "name": "stdout",
     "output_type": "stream",
     "text": [
      "25\n"
     ]
    }
   ],
   "source": [
    "print (x)"
   ]
  },
  {
   "cell_type": "code",
   "execution_count": 5,
   "id": "ead22cd5",
   "metadata": {},
   "outputs": [
    {
     "name": "stdout",
     "output_type": "stream",
     "text": [
      "50\n"
     ]
    }
   ],
   "source": [
    "print (printer())"
   ]
  },
  {
   "cell_type": "code",
   "execution_count": 9,
   "id": "8ba63b3c",
   "metadata": {},
   "outputs": [],
   "source": [
    "# x is local here:\n",
    "f = lambda x:x**2"
   ]
  },
  {
   "cell_type": "code",
   "execution_count": 45,
   "id": "0a88c44e",
   "metadata": {},
   "outputs": [],
   "source": [
    "name = 'This is a Rahul'\n",
    "\n",
    "def greet ():\n",
    "    #Enclosing function\n",
    "    name = 'Rahul'\n",
    "    \n",
    "    def hello ():\n",
    "        print ('Hello' + name)\n",
    "\n",
    "    hello ()"
   ]
  },
  {
   "cell_type": "code",
   "execution_count": 46,
   "id": "cd44ee81",
   "metadata": {},
   "outputs": [
    {
     "name": "stdout",
     "output_type": "stream",
     "text": [
      "HelloRahul\n"
     ]
    }
   ],
   "source": [
    "greet()"
   ]
  },
  {
   "cell_type": "code",
   "execution_count": 42,
   "id": "cc71b472",
   "metadata": {},
   "outputs": [
    {
     "name": "stdout",
     "output_type": "stream",
     "text": [
      "This is a Rahul\n"
     ]
    }
   ],
   "source": [
    "print (name)"
   ]
  },
  {
   "cell_type": "code",
   "execution_count": 15,
   "id": "4a909f1f",
   "metadata": {},
   "outputs": [
    {
     "data": {
      "text/plain": [
       "<function len(obj, /)>"
      ]
     },
     "execution_count": 15,
     "metadata": {},
     "output_type": "execute_result"
    }
   ],
   "source": [
    "len"
   ]
  },
  {
   "cell_type": "code",
   "execution_count": 16,
   "id": "7ee704a4",
   "metadata": {},
   "outputs": [
    {
     "name": "stdout",
     "output_type": "stream",
     "text": [
      "x is 50\n",
      "Changed local x to 2\n",
      "x is still 50\n"
     ]
    }
   ],
   "source": [
    "x = 50 \n",
    "def func (x):\n",
    "    print ('x is', x)\n",
    "    x =2\n",
    "    print ('Changed local x to', x)\n",
    "func (x)\n",
    "print ('x is still',x)"
   ]
  },
  {
   "cell_type": "code",
   "execution_count": 20,
   "id": "9cae166e",
   "metadata": {},
   "outputs": [
    {
     "name": "stdout",
     "output_type": "stream",
     "text": [
      "Before calling func(),x is: 50\n",
      "This function is now using the global x!\n",
      "Because of the global x is: 50\n",
      "Ran func(), changed global x to 2\n",
      "value of x (outside of func())is: 2\n"
     ]
    }
   ],
   "source": [
    "x =50\n",
    "def func():\n",
    "    global x\n",
    "    print ('This function is now using the global x!')\n",
    "    print ('Because of the global x is:',x)\n",
    "    x =2\n",
    "    print ('Ran func(), changed global x to', x)\n",
    "    \n",
    "print ('Before calling func(),x is:',x)\n",
    "func()\n",
    "print ('value of x (outside of func())is:',x) "
   ]
  },
  {
   "cell_type": "code",
   "execution_count": null,
   "id": "083ed962",
   "metadata": {},
   "outputs": [],
   "source": [
    "(, )"
   ]
  }
 ],
 "metadata": {
  "kernelspec": {
   "display_name": "Python 3 (ipykernel)",
   "language": "python",
   "name": "python3"
  },
  "language_info": {
   "codemirror_mode": {
    "name": "ipython",
    "version": 3
   },
   "file_extension": ".py",
   "mimetype": "text/x-python",
   "name": "python",
   "nbconvert_exporter": "python",
   "pygments_lexer": "ipython3",
   "version": "3.10.9"
  }
 },
 "nbformat": 4,
 "nbformat_minor": 5
}
