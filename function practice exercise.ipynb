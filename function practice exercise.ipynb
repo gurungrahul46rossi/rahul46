{
 "cells": [
  {
   "cell_type": "code",
   "execution_count": 21,
   "id": "12c1d053",
   "metadata": {},
   "outputs": [],
   "source": [
    "def lesser_of_two_evens (a,b):\n",
    "    if a % 2 == 0 and b % 2 == 0:\n",
    "        #Both are even\n",
    "        if a<b:\n",
    "            result = a\n",
    "        else:\n",
    "            result = b\n",
    "    else:\n",
    "        if a>b:\n",
    "            result = a\n",
    "        else:\n",
    "            result = b\n",
    "    return result        "
   ]
  },
  {
   "cell_type": "code",
   "execution_count": 22,
   "id": "2bfdaa36",
   "metadata": {},
   "outputs": [
    {
     "data": {
      "text/plain": [
       "2"
      ]
     },
     "execution_count": 22,
     "metadata": {},
     "output_type": "execute_result"
    }
   ],
   "source": [
    "#check\n",
    "lesser_of_two_evens (2,4)"
   ]
  },
  {
   "cell_type": "code",
   "execution_count": 23,
   "id": "2f6e011d",
   "metadata": {},
   "outputs": [
    {
     "data": {
      "text/plain": [
       "5"
      ]
     },
     "execution_count": 23,
     "metadata": {},
     "output_type": "execute_result"
    }
   ],
   "source": [
    "#check\n",
    "lesser_of_two_evens (2,5)"
   ]
  },
  {
   "cell_type": "code",
   "execution_count": 24,
   "id": "b47d2cfe",
   "metadata": {},
   "outputs": [],
   "source": [
    "#cleaning the above code and writing a more efficient code\n",
    "def lesser_of_two_evens(a,b):\n",
    "    if a % 2 == 0 and b % 2 == 0:\n",
    "        result = min(a,b)\n",
    "    else:\n",
    "        result = max(a,b)\n",
    "    return result"
   ]
  },
  {
   "cell_type": "code",
   "execution_count": 25,
   "id": "8ae6041a",
   "metadata": {},
   "outputs": [
    {
     "data": {
      "text/plain": [
       "2"
      ]
     },
     "execution_count": 25,
     "metadata": {},
     "output_type": "execute_result"
    }
   ],
   "source": [
    "lesser_of_two_evens(2,4)"
   ]
  },
  {
   "cell_type": "code",
   "execution_count": 26,
   "id": "297b3eac",
   "metadata": {},
   "outputs": [
    {
     "data": {
      "text/plain": [
       "5"
      ]
     },
     "execution_count": 26,
     "metadata": {},
     "output_type": "execute_result"
    }
   ],
   "source": [
    "lesser_of_two_evens(2,5)"
   ]
  },
  {
   "cell_type": "code",
   "execution_count": 28,
   "id": "43758702",
   "metadata": {},
   "outputs": [],
   "source": [
    "#a more efficient code\n",
    "def lesser_of_two_evens(a,b):\n",
    "    if a % 2 == 0 and b % 2 == 0:\n",
    "        return min(a,b)\n",
    "    else:\n",
    "        return max(a,b)"
   ]
  },
  {
   "cell_type": "code",
   "execution_count": 29,
   "id": "b95f8a37",
   "metadata": {},
   "outputs": [
    {
     "data": {
      "text/plain": [
       "2"
      ]
     },
     "execution_count": 29,
     "metadata": {},
     "output_type": "execute_result"
    }
   ],
   "source": [
    "lesser_of_two_evens(2,4)"
   ]
  },
  {
   "cell_type": "code",
   "execution_count": 30,
   "id": "d65e6ddf",
   "metadata": {},
   "outputs": [
    {
     "data": {
      "text/plain": [
       "5"
      ]
     },
     "execution_count": 30,
     "metadata": {},
     "output_type": "execute_result"
    }
   ],
   "source": [
    "lesser_of_two_evens(2,5)"
   ]
  },
  {
   "cell_type": "code",
   "execution_count": 31,
   "id": "96837376",
   "metadata": {},
   "outputs": [],
   "source": [
    "#Animal cracker"
   ]
  },
  {
   "cell_type": "code",
   "execution_count": 36,
   "id": "8f9facc0",
   "metadata": {},
   "outputs": [],
   "source": [
    "def animal_crackers(text):\n",
    "    worldlist = text.split()\n",
    "    first = worldlist[0]\n",
    "    second = worldlist[1]\n",
    "    return first [0] == second [0]"
   ]
  },
  {
   "cell_type": "code",
   "execution_count": 38,
   "id": "68f2d63f",
   "metadata": {},
   "outputs": [
    {
     "data": {
      "text/plain": [
       "True"
      ]
     },
     "execution_count": 38,
     "metadata": {},
     "output_type": "execute_result"
    }
   ],
   "source": [
    "#check\n",
    "animal_crackers('levelheaded llama')"
   ]
  },
  {
   "cell_type": "code",
   "execution_count": 41,
   "id": "8fff76f6",
   "metadata": {},
   "outputs": [
    {
     "data": {
      "text/plain": [
       "False"
      ]
     },
     "execution_count": 41,
     "metadata": {},
     "output_type": "execute_result"
    }
   ],
   "source": [
    "animal_crackers('crasy kangaroo')"
   ]
  },
  {
   "cell_type": "code",
   "execution_count": 42,
   "id": "0a0054a6",
   "metadata": {},
   "outputs": [],
   "source": [
    "#make twenty"
   ]
  },
  {
   "cell_type": "code",
   "execution_count": null,
   "id": "129005ac",
   "metadata": {},
   "outputs": [],
   "source": []
  }
 ],
 "metadata": {
  "kernelspec": {
   "display_name": "Python 3 (ipykernel)",
   "language": "python",
   "name": "python3"
  },
  "language_info": {
   "codemirror_mode": {
    "name": "ipython",
    "version": 3
   },
   "file_extension": ".py",
   "mimetype": "text/x-python",
   "name": "python",
   "nbconvert_exporter": "python",
   "pygments_lexer": "ipython3",
   "version": "3.10.9"
  }
 },
 "nbformat": 4,
 "nbformat_minor": 5
}
