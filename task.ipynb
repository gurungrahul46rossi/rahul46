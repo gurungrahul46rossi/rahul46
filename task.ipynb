{
 "cells": [
  {
   "cell_type": "code",
   "execution_count": 2,
   "id": "78f57057",
   "metadata": {},
   "outputs": [],
   "source": [
    "def myfunc():\n",
    "    print('Hello World')\n",
    "    "
   ]
  },
  {
   "cell_type": "code",
   "execution_count": 4,
   "id": "289dfa31",
   "metadata": {},
   "outputs": [
    {
     "name": "stdout",
     "output_type": "stream",
     "text": [
      "Hello World\n"
     ]
    }
   ],
   "source": [
    "myfunc()"
   ]
  },
  {
   "cell_type": "code",
   "execution_count": 17,
   "id": "1f990511",
   "metadata": {},
   "outputs": [],
   "source": [
    "def myfunc():\n",
    "    print('My name is {}'.format('Rahul Gurung'))\n",
    "    \n",
    "    "
   ]
  },
  {
   "cell_type": "code",
   "execution_count": 18,
   "id": "bdd65680",
   "metadata": {},
   "outputs": [
    {
     "name": "stdout",
     "output_type": "stream",
     "text": [
      "My name is Rahul Gurung\n"
     ]
    }
   ],
   "source": [
    "myfunc()\n"
   ]
  },
  {
   "cell_type": "code",
   "execution_count": 19,
   "id": "04081f5c",
   "metadata": {},
   "outputs": [],
   "source": [
    "def myfunc(a):\n",
    "    if a == True:\n",
    "        return'Inside'\n",
    "    elif a == False:\n",
    "        return'Outside'"
   ]
  },
  {
   "cell_type": "code",
   "execution_count": 20,
   "id": "b7b71ca3",
   "metadata": {},
   "outputs": [
    {
     "data": {
      "text/plain": [
       "'Outside'"
      ]
     },
     "execution_count": 20,
     "metadata": {},
     "output_type": "execute_result"
    }
   ],
   "source": [
    "myfunc(False)"
   ]
  },
  {
   "cell_type": "code",
   "execution_count": 13,
   "id": "926b162a",
   "metadata": {},
   "outputs": [],
   "source": [
    "def myfunc(a,b,c):\n",
    "    if c== True:\n",
    "        return a \n",
    "    else:\n",
    "        return b\n"
   ]
  },
  {
   "cell_type": "code",
   "execution_count": 14,
   "id": "8ff6e022",
   "metadata": {},
   "outputs": [
    {
     "data": {
      "text/plain": [
       "'Goodbye'"
      ]
     },
     "execution_count": 14,
     "metadata": {},
     "output_type": "execute_result"
    }
   ],
   "source": [
    "myfunc('Hello','Goodbye',False)\n"
   ]
  },
  {
   "cell_type": "code",
   "execution_count": 15,
   "id": "b7ee4284",
   "metadata": {},
   "outputs": [],
   "source": [
    "def myfunc(a,b):\n",
    "    return a*b"
   ]
  },
  {
   "cell_type": "code",
   "execution_count": 16,
   "id": "7d13568a",
   "metadata": {},
   "outputs": [
    {
     "data": {
      "text/plain": [
       "60"
      ]
     },
     "execution_count": 16,
     "metadata": {},
     "output_type": "execute_result"
    }
   ],
   "source": [
    "myfunc(5,12)"
   ]
  },
  {
   "cell_type": "code",
   "execution_count": 17,
   "id": "a0ed3c8a",
   "metadata": {},
   "outputs": [],
   "source": [
    "def is_evenly_divisable_by_3(n):\n",
    "    if n%3 == 0:\n",
    "        return True\n",
    "    else:\n",
    "        return False"
   ]
  },
  {
   "cell_type": "code",
   "execution_count": 18,
   "id": "e5cbbbed",
   "metadata": {},
   "outputs": [
    {
     "data": {
      "text/plain": [
       "True"
      ]
     },
     "execution_count": 18,
     "metadata": {},
     "output_type": "execute_result"
    }
   ],
   "source": [
    "is_evenly_divisable_by_3(15)"
   ]
  },
  {
   "cell_type": "code",
   "execution_count": 19,
   "id": "acfb5363",
   "metadata": {},
   "outputs": [],
   "source": [
    "def is_less(c,d):\n",
    "    if c<d:\n",
    "        return True\n",
    "    else:\n",
    "        return False"
   ]
  },
  {
   "cell_type": "code",
   "execution_count": 20,
   "id": "25ae78e4",
   "metadata": {},
   "outputs": [
    {
     "data": {
      "text/plain": [
       "True"
      ]
     },
     "execution_count": 20,
     "metadata": {},
     "output_type": "execute_result"
    }
   ],
   "source": [
    "is_less(5,9)"
   ]
  },
  {
   "cell_type": "code",
   "execution_count": null,
   "id": "6f1d0943",
   "metadata": {},
   "outputs": [],
   "source": []
  }
 ],
 "metadata": {
  "kernelspec": {
   "display_name": "Python 3 (ipykernel)",
   "language": "python",
   "name": "python3"
  },
  "language_info": {
   "codemirror_mode": {
    "name": "ipython",
    "version": 3
   },
   "file_extension": ".py",
   "mimetype": "text/x-python",
   "name": "python",
   "nbconvert_exporter": "python",
   "pygments_lexer": "ipython3",
   "version": "3.10.9"
  }
 },
 "nbformat": 4,
 "nbformat_minor": 5
}
