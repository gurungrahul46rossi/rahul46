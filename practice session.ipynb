{
 "cells": [
  {
   "cell_type": "code",
   "execution_count": 3,
   "id": "404717ee",
   "metadata": {},
   "outputs": [],
   "source": [
    "def myfunk():\n",
    "    print(\"Hello World\")"
   ]
  },
  {
   "cell_type": "code",
   "execution_count": 4,
   "id": "f0560ff9",
   "metadata": {},
   "outputs": [
    {
     "name": "stdout",
     "output_type": "stream",
     "text": [
      "Hello World\n"
     ]
    }
   ],
   "source": [
    "myfunk()"
   ]
  },
  {
   "cell_type": "code",
   "execution_count": 7,
   "id": "8bc447c5",
   "metadata": {},
   "outputs": [],
   "source": [
    "def myname():\n",
    "    print(\"bindu grg\")"
   ]
  },
  {
   "cell_type": "code",
   "execution_count": 8,
   "id": "c9ec001f",
   "metadata": {},
   "outputs": [
    {
     "name": "stdout",
     "output_type": "stream",
     "text": [
      "bindu grg\n"
     ]
    }
   ],
   "source": [
    "myname()"
   ]
  },
  {
   "cell_type": "code",
   "execution_count": 11,
   "id": "7b9a0839",
   "metadata": {},
   "outputs": [],
   "source": [
    "def mydog():\n",
    "    print(\"anish\")"
   ]
  },
  {
   "cell_type": "code",
   "execution_count": 12,
   "id": "5bfb9d9b",
   "metadata": {},
   "outputs": [
    {
     "name": "stdout",
     "output_type": "stream",
     "text": [
      "anish\n"
     ]
    }
   ],
   "source": [
    "mydog()"
   ]
  },
  {
   "cell_type": "code",
   "execution_count": null,
   "id": "8247d271",
   "metadata": {},
   "outputs": [],
   "source": [
    "                                       "
   ]
  }
 ],
 "metadata": {
  "kernelspec": {
   "display_name": "Python 3 (ipykernel)",
   "language": "python",
   "name": "python3"
  },
  "language_info": {
   "codemirror_mode": {
    "name": "ipython",
    "version": 3
   },
   "file_extension": ".py",
   "mimetype": "text/x-python",
   "name": "python",
   "nbconvert_exporter": "python",
   "pygments_lexer": "ipython3",
   "version": "3.10.9"
  }
 },
 "nbformat": 4,
 "nbformat_minor": 5
}
