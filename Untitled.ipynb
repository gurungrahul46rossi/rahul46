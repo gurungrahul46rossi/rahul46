{
 "cells": [
  {
   "cell_type": "code",
   "execution_count": 1,
   "id": "f54df708",
   "metadata": {},
   "outputs": [
    {
     "ename": "SyntaxError",
     "evalue": "expected ':' (214552334.py, line 2)",
     "output_type": "error",
     "traceback": [
      "\u001b[1;36m  Cell \u001b[1;32mIn[1], line 2\u001b[1;36m\u001b[0m\n\u001b[1;33m    def my_random_list(myfirstlist)\u001b[0m\n\u001b[1;37m                                   ^\u001b[0m\n\u001b[1;31mSyntaxError\u001b[0m\u001b[1;31m:\u001b[0m expected ':'\n"
     ]
    }
   ],
   "source": [
    "from random import shuffle\n",
    "def my_random_list(myfirstlist)\n",
    "    shuffle(myfirstlist)\n",
    "    return myfirstlist\n",
    "def user_guess():\n",
    "    guessed = ''\n",
    "    while guessed not in {'0','1','2'}\n",
    "          guessed = input('pick a number 0,1 or 2')\n",
    "    return int(guessed)\n",
    "def checking_user_guessed(myfirstlist,guessed):\n",
    "    if mylist[guessed] == '0'\n",
    "        print ('correct'\n",
    "    else:\n",
    "        print ('wrong choice')\n",
    "        print (myfirstlist)\n",
    "#INITIAL LIST\n",
    "myfirstlist = ['0','','']\n",
    "#SHUFFLE LIST\n",
    "mixed-list = my_random_list(myfirstlist)\n",
    "#user guess\n",
    "guesed = user_guess()\n",
    "#check user guess\n",
    "checking_usser_guess(mixed_list,guessed)"
   ]
  },
  {
   "cell_type": "code",
   "execution_count": null,
   "id": "ecd1dd9f",
   "metadata": {},
   "outputs": [],
   "source": []
  }
 ],
 "metadata": {
  "kernelspec": {
   "display_name": "Python 3 (ipykernel)",
   "language": "python",
   "name": "python3"
  },
  "language_info": {
   "codemirror_mode": {
    "name": "ipython",
    "version": 3
   },
   "file_extension": ".py",
   "mimetype": "text/x-python",
   "name": "python",
   "nbconvert_exporter": "python",
   "pygments_lexer": "ipython3",
   "version": "3.10.9"
  }
 },
 "nbformat": 4,
 "nbformat_minor": 5
}
